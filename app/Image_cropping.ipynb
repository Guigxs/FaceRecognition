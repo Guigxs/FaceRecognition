{
 "cells": [
  {
   "cell_type": "code",
   "execution_count": 1,
   "id": "8a92c9f6",
   "metadata": {},
   "outputs": [],
   "source": [
    "from imutils import face_utils\n",
    "from imutils.video import VideoStream\n",
    "import argparse\n",
    "import imutils\n",
    "import dlib\n",
    "import cv2\n",
    "import time\n",
    "import numpy as np\n",
    "from PIL import Image as im\n",
    "from matplotlib import pyplot as plt\n",
    "from tensorflow.keras.models import load_model"
   ]
  },
  {
   "cell_type": "code",
   "execution_count": 3,
   "id": "665f5d3e",
   "metadata": {},
   "outputs": [
    {
     "name": "stderr",
     "output_type": "stream",
     "text": [
      "2021-11-20 15:44:44.747265: W tensorflow/stream_executor/platform/default/dso_loader.cc:64] Could not load dynamic library 'libcuda.so.1'; dlerror: libcuda.so.1: cannot open shared object file: No such file or directory; LD_LIBRARY_PATH: /opt/conda/lib/python3.9/site-packages/cv2/../../lib64:\n",
      "2021-11-20 15:44:44.749263: W tensorflow/stream_executor/cuda/cuda_driver.cc:269] failed call to cuInit: UNKNOWN ERROR (303)\n",
      "2021-11-20 15:44:44.749317: I tensorflow/stream_executor/cuda/cuda_diagnostics.cc:163] no NVIDIA GPU device is present: /dev/nvidia0 does not exist\n",
      "2021-11-20 15:44:44.750342: I tensorflow/core/platform/cpu_feature_guard.cc:142] This TensorFlow binary is optimized with oneAPI Deep Neural Network Library (oneDNN) to use the following CPU instructions in performance-critical operations:  SSE4.1 SSE4.2 AVX AVX2 FMA\n",
      "To enable them in other operations, rebuild TensorFlow with the appropriate compiler flags.\n"
     ]
    }
   ],
   "source": [
    "trainedPath = \"../../shape_predictor_68_face_landmarks.dat\"\n",
    "model = load_model(\"../training/facial_1/\", compile = True)\n",
    "\n",
    "detector = dlib.get_frontal_face_detector()\n",
    "predictor = dlib.shape_predictor(trainedPath)"
   ]
  },
  {
   "cell_type": "code",
   "execution_count": 56,
   "id": "c365024b",
   "metadata": {},
   "outputs": [],
   "source": [
    "emo = ['Angry', 'Fear', 'Happy', 'Sad', 'Surprise', 'Neutral']\n",
    "\n",
    "\n",
    "image = cv2.imread(\"../../happy-man-giving-thumbs-up-sign-full-length-portrait-yellow-background-176646320.jpg\")\n",
    "\n",
    "gray = cv2.cvtColor(image, cv2.COLOR_BGR2GRAY)\n",
    "\n",
    "rects = detector(gray, 1)"
   ]
  },
  {
   "cell_type": "code",
   "execution_count": 57,
   "id": "48a7eae8",
   "metadata": {},
   "outputs": [
    {
     "name": "stdout",
     "output_type": "stream",
     "text": [
      "Detect : Happy\n"
     ]
    },
    {
     "data": {
      "image/png": "[encoded data removed]",
      "text/plain": [
       "<Figure size 432x288 with 1 Axes>"
      ]
     },
     "metadata": {
      "needs_background": "light"
     },
     "output_type": "display_data"
    }
   ],
   "source": [
    "gray = cv2.cvtColor(image, cv2.COLOR_BGR2GRAY)\n",
    "\n",
    "rects = detector(gray, 1)\n",
    "\n",
    "for (i, rect) in enumerate(rects):\n",
    "    # determine the facial landmarks for the face region, then\n",
    "    # convert the facial landmark (x, y)-coordinates to a NumPy\n",
    "    # array\n",
    "    shape = predictor(gray, rect)\n",
    "    shape = face_utils.shape_to_np(shape)\n",
    "\n",
    "    # convert dlib's rectangle to a OpenCV-style bounding box\n",
    "    # [i.e., (x, y, w, h)], then draw the face bounding box\n",
    "    (x, y, w, h) = face_utils.rect_to_bb(rect)\n",
    "\n",
    "    tl = int(y)\n",
    "    bl = int(y+w)\n",
    "    tr = int(x)\n",
    "    br = int(x+h)\n",
    "\n",
    "    if (tl < 0):\n",
    "        tl = 0\n",
    "    if (bl > gray.shape[0]):\n",
    "        bl = gray.shape[0]\n",
    "    if (tr < 0):\n",
    "        tr = 0\n",
    "    if (br > gray.shape[1]):\n",
    "        br = gray.shape[1]\n",
    "\n",
    "    face = gray[tl:bl, tr:br]\n",
    "    \n",
    "    face = cv2.resize(face, dsize=(48, 48), interpolation=cv2.INTER_CUBIC)\n",
    "    face = face.reshape(1, 48, 48, 1)\n",
    "    \n",
    "    y_prob = model.predict(face, batch_size=32, verbose=0)\n",
    "    index = np.argmax(y_prob)\n",
    "    print(\"Detect :\", emo[index])\n",
    "    \n",
    "    #cv2.rectangle(gray, (x, y), (x + w, y + h), (0, 255, 0), 2)\n",
    "\n",
    "    # show the face number\n",
    "    # cv2.putText(gray, \"Face #{}\".format(i + 1), (x - 10, y - 10),\n",
    "    #     cv2.FONT_HERSHEY_SIMPLEX, 0.5, (0, 255, 0), 2)\n",
    "\n",
    "    # loop over the (x, y)-coordinates for the facial landmarks\n",
    "    # and draw them on the image\n",
    "    # for (x, y) in shape:\n",
    "    #     cv2.circle(gray, (x, y), 1, (0, 0, 255), -1)\n",
    "\n",
    "plt.imshow(face[0], cmap='gray')\n",
    "plt.show()"
   ]
  },
  {
   "cell_type": "code",
   "execution_count": null,
   "id": "9431e85d",
   "metadata": {},
   "outputs": [],
   "source": []
  }
 ],
 "metadata": {
  "kernelspec": {
   "display_name": "Python 3 (ipykernel)",
   "language": "python",
   "name": "python3"
  },
  "language_info": {
   "codemirror_mode": {
    "name": "ipython",
    "version": 3
   },
   "file_extension": ".py",
   "mimetype": "text/x-python",
   "name": "python",
   "nbconvert_exporter": "python",
   "pygments_lexer": "ipython3",
   "version": "3.9.7"
  }
 },
 "nbformat": 4,
 "nbformat_minor": 5
}
